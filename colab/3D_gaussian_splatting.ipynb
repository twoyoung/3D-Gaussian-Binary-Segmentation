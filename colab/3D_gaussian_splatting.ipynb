{
  "cells": [
    {
      "cell_type": "markdown",
      "source": [
        "The code to train the colmap generated images and .bin files"
      ],
      "metadata": {
        "id": "Cug0gnpX2gE-"
      }
    },
    {
      "cell_type": "code",
      "source": [
        "from google.colab import drive\n",
        "drive.mount('/content/drive')"
      ],
      "metadata": {
        "id": "k2G94HyROkG4",
        "outputId": "08ebadc8-0a72-424a-e3df-ee13b9732d78",
        "colab": {
          "base_uri": "https://localhost:8080/",
          "height": 355
        }
      },
      "execution_count": null,
      "outputs": [
        {
          "output_type": "error",
          "ename": "MessageError",
          "evalue": "Error: credential propagation was unsuccessful",
          "traceback": [
            "\u001b[0;31m---------------------------------------------------------------------------\u001b[0m",
            "\u001b[0;31mMessageError\u001b[0m                              Traceback (most recent call last)",
            "\u001b[0;32m<ipython-input-1-d5df0069828e>\u001b[0m in \u001b[0;36m<cell line: 2>\u001b[0;34m()\u001b[0m\n\u001b[1;32m      1\u001b[0m \u001b[0;32mfrom\u001b[0m \u001b[0mgoogle\u001b[0m\u001b[0;34m.\u001b[0m\u001b[0mcolab\u001b[0m \u001b[0;32mimport\u001b[0m \u001b[0mdrive\u001b[0m\u001b[0;34m\u001b[0m\u001b[0;34m\u001b[0m\u001b[0m\n\u001b[0;32m----> 2\u001b[0;31m \u001b[0mdrive\u001b[0m\u001b[0;34m.\u001b[0m\u001b[0mmount\u001b[0m\u001b[0;34m(\u001b[0m\u001b[0;34m'/content/drive'\u001b[0m\u001b[0;34m)\u001b[0m\u001b[0;34m\u001b[0m\u001b[0;34m\u001b[0m\u001b[0m\n\u001b[0m",
            "\u001b[0;32m/usr/local/lib/python3.10/dist-packages/google/colab/drive.py\u001b[0m in \u001b[0;36mmount\u001b[0;34m(mountpoint, force_remount, timeout_ms, readonly)\u001b[0m\n\u001b[1;32m     98\u001b[0m \u001b[0;32mdef\u001b[0m \u001b[0mmount\u001b[0m\u001b[0;34m(\u001b[0m\u001b[0mmountpoint\u001b[0m\u001b[0;34m,\u001b[0m \u001b[0mforce_remount\u001b[0m\u001b[0;34m=\u001b[0m\u001b[0;32mFalse\u001b[0m\u001b[0;34m,\u001b[0m \u001b[0mtimeout_ms\u001b[0m\u001b[0;34m=\u001b[0m\u001b[0;36m120000\u001b[0m\u001b[0;34m,\u001b[0m \u001b[0mreadonly\u001b[0m\u001b[0;34m=\u001b[0m\u001b[0;32mFalse\u001b[0m\u001b[0;34m)\u001b[0m\u001b[0;34m:\u001b[0m\u001b[0;34m\u001b[0m\u001b[0;34m\u001b[0m\u001b[0m\n\u001b[1;32m     99\u001b[0m   \u001b[0;34m\"\"\"Mount your Google Drive at the specified mountpoint path.\"\"\"\u001b[0m\u001b[0;34m\u001b[0m\u001b[0;34m\u001b[0m\u001b[0m\n\u001b[0;32m--> 100\u001b[0;31m   return _mount(\n\u001b[0m\u001b[1;32m    101\u001b[0m       \u001b[0mmountpoint\u001b[0m\u001b[0;34m,\u001b[0m\u001b[0;34m\u001b[0m\u001b[0;34m\u001b[0m\u001b[0m\n\u001b[1;32m    102\u001b[0m       \u001b[0mforce_remount\u001b[0m\u001b[0;34m=\u001b[0m\u001b[0mforce_remount\u001b[0m\u001b[0;34m,\u001b[0m\u001b[0;34m\u001b[0m\u001b[0;34m\u001b[0m\u001b[0m\n",
            "\u001b[0;32m/usr/local/lib/python3.10/dist-packages/google/colab/drive.py\u001b[0m in \u001b[0;36m_mount\u001b[0;34m(mountpoint, force_remount, timeout_ms, ephemeral, readonly)\u001b[0m\n\u001b[1;32m    127\u001b[0m   )\n\u001b[1;32m    128\u001b[0m   \u001b[0;32mif\u001b[0m \u001b[0mephemeral\u001b[0m\u001b[0;34m:\u001b[0m\u001b[0;34m\u001b[0m\u001b[0;34m\u001b[0m\u001b[0m\n\u001b[0;32m--> 129\u001b[0;31m     _message.blocking_request(\n\u001b[0m\u001b[1;32m    130\u001b[0m         \u001b[0;34m'request_auth'\u001b[0m\u001b[0;34m,\u001b[0m \u001b[0mrequest\u001b[0m\u001b[0;34m=\u001b[0m\u001b[0;34m{\u001b[0m\u001b[0;34m'authType'\u001b[0m\u001b[0;34m:\u001b[0m \u001b[0;34m'dfs_ephemeral'\u001b[0m\u001b[0;34m}\u001b[0m\u001b[0;34m,\u001b[0m \u001b[0mtimeout_sec\u001b[0m\u001b[0;34m=\u001b[0m\u001b[0;32mNone\u001b[0m\u001b[0;34m\u001b[0m\u001b[0;34m\u001b[0m\u001b[0m\n\u001b[1;32m    131\u001b[0m     )\n",
            "\u001b[0;32m/usr/local/lib/python3.10/dist-packages/google/colab/_message.py\u001b[0m in \u001b[0;36mblocking_request\u001b[0;34m(request_type, request, timeout_sec, parent)\u001b[0m\n\u001b[1;32m    174\u001b[0m       \u001b[0mrequest_type\u001b[0m\u001b[0;34m,\u001b[0m \u001b[0mrequest\u001b[0m\u001b[0;34m,\u001b[0m \u001b[0mparent\u001b[0m\u001b[0;34m=\u001b[0m\u001b[0mparent\u001b[0m\u001b[0;34m,\u001b[0m \u001b[0mexpect_reply\u001b[0m\u001b[0;34m=\u001b[0m\u001b[0;32mTrue\u001b[0m\u001b[0;34m\u001b[0m\u001b[0;34m\u001b[0m\u001b[0m\n\u001b[1;32m    175\u001b[0m   )\n\u001b[0;32m--> 176\u001b[0;31m   \u001b[0;32mreturn\u001b[0m \u001b[0mread_reply_from_input\u001b[0m\u001b[0;34m(\u001b[0m\u001b[0mrequest_id\u001b[0m\u001b[0;34m,\u001b[0m \u001b[0mtimeout_sec\u001b[0m\u001b[0;34m)\u001b[0m\u001b[0;34m\u001b[0m\u001b[0;34m\u001b[0m\u001b[0m\n\u001b[0m",
            "\u001b[0;32m/usr/local/lib/python3.10/dist-packages/google/colab/_message.py\u001b[0m in \u001b[0;36mread_reply_from_input\u001b[0;34m(message_id, timeout_sec)\u001b[0m\n\u001b[1;32m    101\u001b[0m     ):\n\u001b[1;32m    102\u001b[0m       \u001b[0;32mif\u001b[0m \u001b[0;34m'error'\u001b[0m \u001b[0;32min\u001b[0m \u001b[0mreply\u001b[0m\u001b[0;34m:\u001b[0m\u001b[0;34m\u001b[0m\u001b[0;34m\u001b[0m\u001b[0m\n\u001b[0;32m--> 103\u001b[0;31m         \u001b[0;32mraise\u001b[0m \u001b[0mMessageError\u001b[0m\u001b[0;34m(\u001b[0m\u001b[0mreply\u001b[0m\u001b[0;34m[\u001b[0m\u001b[0;34m'error'\u001b[0m\u001b[0;34m]\u001b[0m\u001b[0;34m)\u001b[0m\u001b[0;34m\u001b[0m\u001b[0;34m\u001b[0m\u001b[0m\n\u001b[0m\u001b[1;32m    104\u001b[0m       \u001b[0;32mreturn\u001b[0m \u001b[0mreply\u001b[0m\u001b[0;34m.\u001b[0m\u001b[0mget\u001b[0m\u001b[0;34m(\u001b[0m\u001b[0;34m'data'\u001b[0m\u001b[0;34m,\u001b[0m \u001b[0;32mNone\u001b[0m\u001b[0;34m)\u001b[0m\u001b[0;34m\u001b[0m\u001b[0;34m\u001b[0m\u001b[0m\n\u001b[1;32m    105\u001b[0m \u001b[0;34m\u001b[0m\u001b[0m\n",
            "\u001b[0;31mMessageError\u001b[0m: Error: credential propagation was unsuccessful"
          ]
        }
      ]
    },
    {
      "cell_type": "code",
      "execution_count": null,
      "metadata": {
        "id": "VjYy0F2gZIPR",
        "outputId": "662a49b1-0bc2-4516-afae-38a19024ee91",
        "colab": {
          "base_uri": "https://localhost:8080/"
        }
      },
      "outputs": [
        {
          "output_type": "stream",
          "name": "stdout",
          "text": [
            "/content\n",
            "Cloning into 'gaussian-splatting'...\n",
            "remote: Enumerating objects: 603, done.\u001b[K\n",
            "remote: Counting objects: 100% (603/603), done.\u001b[K\n",
            "remote: Compressing objects: 100% (250/250), done.\u001b[K\n",
            "remote: Total 603 (delta 347), reused 571 (delta 344), pack-reused 0\u001b[K\n",
            "Receiving objects: 100% (603/603), 2.09 MiB | 5.87 MiB/s, done.\n",
            "Resolving deltas: 100% (347/347), done.\n",
            "Submodule 'SIBR_viewers' (https://gitlab.inria.fr/sibr/sibr_core) registered for path 'SIBR_viewers'\n",
            "Submodule 'submodules/diff-gaussian-rasterization' (https://github.com/graphdeco-inria/diff-gaussian-rasterization) registered for path 'submodules/diff-gaussian-rasterization'\n",
            "Submodule 'submodules/simple-knn' (https://gitlab.inria.fr/bkerbl/simple-knn.git) registered for path 'submodules/simple-knn'\n",
            "Cloning into '/content/gaussian-splatting/SIBR_viewers'...\n",
            "warning: redirecting to https://gitlab.inria.fr/sibr/sibr_core.git/\n",
            "remote: Enumerating objects: 2879, done.        \n",
            "remote: Counting objects: 100% (1412/1412), done.        \n",
            "remote: Compressing objects: 100% (712/712), done.        \n",
            "remote: Total 2879 (delta 864), reused 1121 (delta 694), pack-reused 1467        \n",
            "Receiving objects: 100% (2879/2879), 8.07 MiB | 6.53 MiB/s, done.\n",
            "Resolving deltas: 100% (1698/1698), done.\n",
            "Cloning into '/content/gaussian-splatting/submodules/diff-gaussian-rasterization'...\n",
            "remote: Enumerating objects: 242, done.        \n",
            "remote: Counting objects: 100% (138/138), done.        \n",
            "remote: Compressing objects: 100% (48/48), done.        \n",
            "remote: Total 242 (delta 117), reused 95 (delta 90), pack-reused 104        \n",
            "Receiving objects: 100% (242/242), 80.21 KiB | 1.27 MiB/s, done.\n",
            "Resolving deltas: 100% (154/154), done.\n",
            "Cloning into '/content/gaussian-splatting/submodules/simple-knn'...\n",
            "remote: Enumerating objects: 23, done.        \n",
            "remote: Counting objects: 100% (23/23), done.        \n",
            "remote: Compressing objects: 100% (21/21), done.        \n",
            "remote: Total 23 (delta 10), reused 0 (delta 0), pack-reused 0        \n",
            "Receiving objects: 100% (23/23), 4.70 KiB | 4.70 MiB/s, done.\n",
            "Resolving deltas: 100% (10/10), done.\n",
            "Submodule path 'SIBR_viewers': checked out '14199886ae3f42358092c16ada909c1e0b1cba20'\n",
            "Submodule path 'submodules/diff-gaussian-rasterization': checked out '8064f52ca233942bdec2d1a1451c026deedd320b'\n",
            "Submodule 'third_party/glm' (https://github.com/g-truc/glm.git) registered for path 'submodules/diff-gaussian-rasterization/third_party/glm'\n",
            "Cloning into '/content/gaussian-splatting/submodules/diff-gaussian-rasterization/third_party/glm'...\n",
            "remote: Enumerating objects: 58054, done.        \n",
            "remote: Counting objects: 100% (1051/1051), done.        \n",
            "remote: Compressing objects: 100% (396/396), done.        \n",
            "remote: Total 58054 (delta 693), reused 883 (delta 624), pack-reused 57003        \n",
            "Receiving objects: 100% (58054/58054), 69.72 MiB | 20.35 MiB/s, done.\n",
            "Resolving deltas: 100% (43727/43727), done.\n",
            "Submodule path 'submodules/diff-gaussian-rasterization/third_party/glm': checked out '5c46b9c07008ae65cb81ab79cd677ecc1934b903'\n",
            "Submodule path 'submodules/simple-knn': checked out '44f764299fa305faf6ec5ebd99939e0508331503'\n"
          ]
        }
      ],
      "source": [
        "%cd /content\n",
        "!git clone --recursive https://github.com/camenduru/gaussian-splatting\n",
        "!pip install -q plyfile"
      ]
    },
    {
      "cell_type": "code",
      "source": [
        "%cd /content/gaussian-splatting\n",
        "!pip install -q /content/gaussian-splatting/submodules/diff-gaussian-rasterization\n",
        "!pip install -q /content/gaussian-splatting/submodules/simple-knn"
      ],
      "metadata": {
        "id": "JAYWP6GmPUea",
        "outputId": "bc1b48ce-6cff-4a9a-dffb-182253f1677b",
        "colab": {
          "base_uri": "https://localhost:8080/"
        }
      },
      "execution_count": null,
      "outputs": [
        {
          "output_type": "stream",
          "name": "stdout",
          "text": [
            "/content/gaussian-splatting\n",
            "  Preparing metadata (setup.py) ... \u001b[?25l\u001b[?25hdone\n",
            "  Building wheel for diff-gaussian-rasterization (setup.py) ... \u001b[?25l\u001b[?25hdone\n",
            "  Preparing metadata (setup.py) ... \u001b[?25l\u001b[?25hdone\n",
            "  Building wheel for simple-knn (setup.py) ... \u001b[?25l\u001b[?25hdone\n"
          ]
        }
      ]
    },
    {
      "cell_type": "code",
      "source": [
        "!wget https://huggingface.co/datasets/twoyoung/christmasTree/resolve/main/christmasTree.zip\n",
        "!unzip christmasTree.zip"
      ],
      "metadata": {
        "id": "Rqx_Y4auPjfI",
        "colab": {
          "base_uri": "https://localhost:8080/"
        },
        "outputId": "355eaafb-efb5-43e6-9eaa-e729b8aa9e6b"
      },
      "execution_count": null,
      "outputs": [
        {
          "output_type": "stream",
          "name": "stdout",
          "text": [
            "--2024-01-05 06:19:47--  https://huggingface.co/twoyoung/christmasTree/resolve/main/christmasTree.zip\n",
            "Resolving huggingface.co (huggingface.co)... 18.164.174.17, 18.164.174.23, 18.164.174.55, ...\n",
            "Connecting to huggingface.co (huggingface.co)|18.164.174.17|:443... connected.\n",
            "HTTP request sent, awaiting response... 302 Found\n",
            "Location: https://cdn-lfs-us-1.huggingface.co/repos/63/07/6307b3cc2ac1ecda61d160758b4da7f4fd1c8605ed407526a09db7e2d3c71e17/6a699730ac98efaa0fdea9c6f4f6008689e12089c8f8ea039533e2820f55137f?response-content-disposition=attachment%3B+filename*%3DUTF-8%27%27christmasTree.zip%3B+filename%3D%22christmasTree.zip%22%3B&response-content-type=application%2Fzip&Expires=1704694067&Policy=eyJTdGF0ZW1lbnQiOlt7IkNvbmRpdGlvbiI6eyJEYXRlTGVzc1RoYW4iOnsiQVdTOkVwb2NoVGltZSI6MTcwNDY5NDA2N319LCJSZXNvdXJjZSI6Imh0dHBzOi8vY2RuLWxmcy11cy0xLmh1Z2dpbmdmYWNlLmNvL3JlcG9zLzYzLzA3LzYzMDdiM2NjMmFjMWVjZGE2MWQxNjA3NThiNGRhN2Y0ZmQxYzg2MDVlZDQwNzUyNmEwOWRiN2UyZDNjNzFlMTcvNmE2OTk3MzBhYzk4ZWZhYTBmZGVhOWM2ZjRmNjAwODY4OWUxMjA4OWM4ZjhlYTAzOTUzM2UyODIwZjU1MTM3Zj9yZXNwb25zZS1jb250ZW50LWRpc3Bvc2l0aW9uPSomcmVzcG9uc2UtY29udGVudC10eXBlPSoifV19&Signature=Q3quJbGxUvX3lsi0Ut0ThMxNgX79w6xJsX8HIUXdmoD4mFfEWPR52efLGojrmVZnkG9mIT3xTyJXql04n61Ui%7E1EoF6OAlIPdgO1f2YTs8EdJbM044YY%7EJLjux3yd8CF0Sa13ctxXtGLomRE5wmBZ6C2P2xt3tIZZ2GEllcnKFF3pbvPCFd6TJFBiR27zAHeXQAG%7EYFoCChZkMS4LeB04lQTyZBtGIVtnqFU3cqhQALZD3tL2eh1FBWuat0hyCRLgInyWyZC1%7ExdDNnXkkl-%7E9BqbE-PrvauPVCOSYTSpx2%7EdL7Aaf7azubLnG2vAsOod-C2eqt-uLQG-30hAeWXiA__&Key-Pair-Id=KCD77M1F0VK2B [following]\n",
            "--2024-01-05 06:19:47--  https://cdn-lfs-us-1.huggingface.co/repos/63/07/6307b3cc2ac1ecda61d160758b4da7f4fd1c8605ed407526a09db7e2d3c71e17/6a699730ac98efaa0fdea9c6f4f6008689e12089c8f8ea039533e2820f55137f?response-content-disposition=attachment%3B+filename*%3DUTF-8%27%27christmasTree.zip%3B+filename%3D%22christmasTree.zip%22%3B&response-content-type=application%2Fzip&Expires=1704694067&Policy=eyJTdGF0ZW1lbnQiOlt7IkNvbmRpdGlvbiI6eyJEYXRlTGVzc1RoYW4iOnsiQVdTOkVwb2NoVGltZSI6MTcwNDY5NDA2N319LCJSZXNvdXJjZSI6Imh0dHBzOi8vY2RuLWxmcy11cy0xLmh1Z2dpbmdmYWNlLmNvL3JlcG9zLzYzLzA3LzYzMDdiM2NjMmFjMWVjZGE2MWQxNjA3NThiNGRhN2Y0ZmQxYzg2MDVlZDQwNzUyNmEwOWRiN2UyZDNjNzFlMTcvNmE2OTk3MzBhYzk4ZWZhYTBmZGVhOWM2ZjRmNjAwODY4OWUxMjA4OWM4ZjhlYTAzOTUzM2UyODIwZjU1MTM3Zj9yZXNwb25zZS1jb250ZW50LWRpc3Bvc2l0aW9uPSomcmVzcG9uc2UtY29udGVudC10eXBlPSoifV19&Signature=Q3quJbGxUvX3lsi0Ut0ThMxNgX79w6xJsX8HIUXdmoD4mFfEWPR52efLGojrmVZnkG9mIT3xTyJXql04n61Ui%7E1EoF6OAlIPdgO1f2YTs8EdJbM044YY%7EJLjux3yd8CF0Sa13ctxXtGLomRE5wmBZ6C2P2xt3tIZZ2GEllcnKFF3pbvPCFd6TJFBiR27zAHeXQAG%7EYFoCChZkMS4LeB04lQTyZBtGIVtnqFU3cqhQALZD3tL2eh1FBWuat0hyCRLgInyWyZC1%7ExdDNnXkkl-%7E9BqbE-PrvauPVCOSYTSpx2%7EdL7Aaf7azubLnG2vAsOod-C2eqt-uLQG-30hAeWXiA__&Key-Pair-Id=KCD77M1F0VK2B\n",
            "Resolving cdn-lfs-us-1.huggingface.co (cdn-lfs-us-1.huggingface.co)... 18.154.206.42, 18.154.206.88, 18.154.206.76, ...\n",
            "Connecting to cdn-lfs-us-1.huggingface.co (cdn-lfs-us-1.huggingface.co)|18.154.206.42|:443... connected.\n",
            "HTTP request sent, awaiting response... 200 OK\n",
            "Length: 536505024 (512M) [application/zip]\n",
            "Saving to: ‘christmasTree.zip’\n",
            "\n",
            "christmasTree.zip   100%[===================>] 511.65M  79.7MB/s    in 6.5s    \n",
            "\n",
            "2024-01-05 06:19:53 (79.1 MB/s) - ‘christmasTree.zip’ saved [536505024/536505024]\n",
            "\n",
            "Archive:  christmasTree.zip\n",
            "  inflating: christmasTree/sparse/0/output.ply  \n",
            "  inflating: christmasTree/images/IMG_2421.JPG  \n",
            "  inflating: christmasTree/images/IMG_2436.JPG  \n",
            "  inflating: christmasTree/images/IMG_2422.JPG  \n",
            "  inflating: christmasTree/images/IMG_2433.JPG  \n",
            "  inflating: christmasTree/images/IMG_2424.JPG  \n",
            "  inflating: christmasTree/images/IMG_2439.JPG  \n",
            "  inflating: christmasTree/images/IMG_2445.JPG  \n",
            "  inflating: christmasTree/images/IMG_2448.JPG  \n",
            "  inflating: christmasTree/images/IMG_2423.JPG  \n",
            "  inflating: christmasTree/images/IMG_2428.JPG  \n",
            "  inflating: christmasTree/images/IMG_2441.JPG  \n",
            "  inflating: christmasTree/images/IMG_2435.JPG  \n",
            "  inflating: christmasTree/images/IMG_2442.JPG  \n",
            "  inflating: christmasTree/images/IMG_2437.JPG  \n",
            "  inflating: christmasTree/sparse/0/cameras.bin  \n",
            "  inflating: christmasTree/images/IMG_2446.JPG  \n",
            "  inflating: christmasTree/images/IMG_2431.JPG  \n",
            "  inflating: christmasTree/images/IMG_2443.JPG  \n",
            "  inflating: christmasTree/images/IMG_2420.JPG  \n",
            "  inflating: christmasTree/images/IMG_2430.JPG  \n",
            "  inflating: christmasTree/images/IMG_2440.JPG  \n",
            "  inflating: christmasTree/images/IMG_2429.JPG  \n",
            "  inflating: christmasTree/images/IMG_2438.JPG  \n",
            "  inflating: christmasTree/images/IMG_2408.JPG  \n",
            "  inflating: christmasTree/images/IMG_2417.JPG  \n",
            "  inflating: christmasTree/images/IMG_2405.JPG  \n",
            "  inflating: christmasTree/images/IMG_2447.JPG  \n",
            "  inflating: christmasTree/images/IMG_2414.JPG  \n",
            "  inflating: christmasTree/images/IMG_2410.JPG  \n",
            "  inflating: christmasTree/images/IMG_2406.JPG  \n",
            "  inflating: christmasTree/images/IMG_2403.JPG  \n",
            "  inflating: christmasTree/images/IMG_2412.JPG  \n",
            "  inflating: christmasTree/images/IMG_2409.JPG  \n",
            "  inflating: christmasTree/images/IMG_2415.JPG  \n",
            "  inflating: christmasTree/images/IMG_2402.JPG  \n",
            "  inflating: christmasTree/images/IMG_2411.JPG  \n",
            "  inflating: christmasTree/images/IMG_2404.JPG  \n",
            "  inflating: christmasTree/images/IMG_2434.JPG  \n",
            "  inflating: christmasTree/images/IMG_2407.JPG  \n",
            "  inflating: christmasTree/images/IMG_2401.JPG  \n",
            "  inflating: christmasTree/images/IMG_2427.JPG  \n",
            "  inflating: christmasTree/images/IMG_2444.JPG  \n",
            "  inflating: christmasTree/images/IMG_2426.JPG  \n",
            "  inflating: christmasTree/images/IMG_2394.JPG  \n",
            "  inflating: christmasTree/images/IMG_2395.JPG  \n",
            "  inflating: christmasTree/images/IMG_2416.JPG  \n",
            "  inflating: christmasTree/images/IMG_2418.JPG  \n",
            "  inflating: christmasTree/images/IMG_2413.JPG  \n",
            "  inflating: christmasTree/images/IMG_2398.JPG  \n",
            "  inflating: christmasTree/images/IMG_2390.JPG  \n",
            "  inflating: christmasTree/images/IMG_2399.JPG  \n",
            "  inflating: christmasTree/images/IMG_2387.JPG  \n",
            "  inflating: christmasTree/images/IMG_2425.JPG  \n",
            "  inflating: christmasTree/images/IMG_2379.JPG  \n",
            "  inflating: christmasTree/images/IMG_2419.JPG  \n",
            "  inflating: christmasTree/images/IMG_2382.JPG  \n",
            "  inflating: christmasTree/images/IMG_2397.JPG  \n",
            "  inflating: christmasTree/images/IMG_2383.JPG  \n",
            "  inflating: christmasTree/images/IMG_2432.JPG  \n",
            "  inflating: christmasTree/images/IMG_2392.JPG  \n",
            "  inflating: christmasTree/images/IMG_2385.JPG  \n",
            "  inflating: christmasTree/images/IMG_2388.JPG  \n",
            "  inflating: christmasTree/images/IMG_2389.JPG  \n",
            "  inflating: christmasTree/images/IMG_2380.JPG  \n",
            "  inflating: christmasTree/images/IMG_2376.JPG  \n",
            "  inflating: christmasTree/images/IMG_2370.JPG  \n",
            "  inflating: christmasTree/images/IMG_2375.JPG  \n",
            "  inflating: christmasTree/images/IMG_2371.JPG  \n",
            "  inflating: christmasTree/images/IMG_2374.JPG  \n",
            "  inflating: christmasTree/images/IMG_2396.JPG  \n",
            "  inflating: christmasTree/images/IMG_2384.JPG  \n",
            "  inflating: christmasTree/images/IMG_2372.JPG  \n",
            "  inflating: christmasTree/images/IMG_2386.JPG  \n",
            "  inflating: christmasTree/images/IMG_2377.JPG  \n",
            "  inflating: christmasTree/sparse/0/points3D.bin  \n",
            "  inflating: christmasTree/images/IMG_2378.JPG  \n",
            "  inflating: christmasTree/images/IMG_2400.JPG  \n",
            "  inflating: christmasTree/images/IMG_2393.JPG  \n",
            "  inflating: christmasTree/images/IMG_2373.JPG  \n",
            "  inflating: christmasTree/images/IMG_2391.JPG  \n",
            "  inflating: christmasTree/images/IMG_2381.JPG  \n",
            "  inflating: christmasTree/sparse/0/images.bin  \n"
          ]
        }
      ]
    },
    {
      "cell_type": "code",
      "source": [
        "!python train.py -s /content/gaussian-splatting/christmasTree\n",
        "\n",
        "# !wget https://huggingface.co/camenduru/gaussian-splatting/resolve/main/GaussianViewTest.zip\n",
        "# !unzip GaussianViewTest.zip\n",
        "# !python render.py -m /content/gaussian-splatting/GaussianViewTest/model\n",
        "# !ffmpeg -framerate 3 -i /content/gaussian-splatting/GaussianViewTest/model/train/ours_30000/renders/%05d.png -vf \"pad=ceil(iw/2)*2:ceil(ih/2)*2\" -c:v libx264 -r 3 -pix_fmt yuv420p /content/renders.mp4\n",
        "# !ffmpeg -framerate 3 -i /content/gaussian-splatting/GaussianViewTest/model/train/ours_30000/gt/%05d.png -vf \"pad=ceil(iw/2)*2:ceil(ih/2)*2\" -c:v libx264 -r 3 -pix_fmt yuv420p /content/gt.mp4 -y"
      ],
      "metadata": {
        "colab": {
          "base_uri": "https://localhost:8080/"
        },
        "id": "rBvbbyCuRwka",
        "outputId": "e20329ec-49c1-49d2-ac04-4a212d36abc5"
      },
      "execution_count": null,
      "outputs": [
        {
          "output_type": "stream",
          "name": "stdout",
          "text": [
            "2024-01-05 06:20:07.917142: E external/local_xla/xla/stream_executor/cuda/cuda_dnn.cc:9261] Unable to register cuDNN factory: Attempting to register factory for plugin cuDNN when one has already been registered\n",
            "2024-01-05 06:20:07.917195: E external/local_xla/xla/stream_executor/cuda/cuda_fft.cc:607] Unable to register cuFFT factory: Attempting to register factory for plugin cuFFT when one has already been registered\n",
            "2024-01-05 06:20:07.918539: E external/local_xla/xla/stream_executor/cuda/cuda_blas.cc:1515] Unable to register cuBLAS factory: Attempting to register factory for plugin cuBLAS when one has already been registered\n",
            "2024-01-05 06:20:07.926219: I tensorflow/core/platform/cpu_feature_guard.cc:182] This TensorFlow binary is optimized to use available CPU instructions in performance-critical operations.\n",
            "To enable the following instructions: AVX2 AVX512F FMA, in other operations, rebuild TensorFlow with the appropriate compiler flags.\n",
            "2024-01-05 06:20:08.924930: W tensorflow/compiler/tf2tensorrt/utils/py_utils.cc:38] TF-TRT Warning: Could not find TensorRT\n",
            "Optimizing \n",
            "Output folder: ./output/6b290d87-a [05/01 06:20:10]\n",
            "Reading camera 79/79 [05/01 06:20:10]\n",
            "Converting point3d.bin to .ply, will happen only the first time you open the scene. [05/01 06:20:10]\n",
            "Loading Training Cameras [05/01 06:20:11]\n",
            "[ INFO ] Encountered quite large input images (>1.6K pixels width), rescaling to 1.6K.\n",
            " If this is not desired, please explicitly specify '--resolution/-r' as 1 [05/01 06:20:11]\n",
            "Loading Test Cameras [05/01 06:20:52]\n",
            "Number of points at initialisation :  37717 [05/01 06:20:52]\n",
            "Training progress:  23% 7000/30000 [26:29<1:49:33,  3.50it/s, Loss=0.0681349]\n",
            "[ITER 7000] Evaluating train: L1 0.03245966099202633 PSNR 24.10332489013672 [05/01 06:47:43]\n",
            "\n",
            "[ITER 7000] Saving Gaussians [05/01 06:47:44]\n",
            "Training progress: 100% 30000/30000 [2:31:21<00:00,  3.30it/s, Loss=0.0532913]\n",
            "\n",
            "[ITER 30000] Evaluating train: L1 0.02539970949292183 PSNR 26.02067337036133 [05/01 08:52:24]\n",
            "\n",
            "[ITER 30000] Saving Gaussians [05/01 08:52:25]\n",
            "\n",
            "Training complete. [05/01 08:52:49]\n"
          ]
        }
      ]
    }
  ],
  "metadata": {
    "accelerator": "GPU",
    "colab": {
      "gpuType": "T4",
      "provenance": []
    },
    "kernelspec": {
      "display_name": "Python 3",
      "name": "python3"
    },
    "language_info": {
      "name": "python"
    }
  },
  "nbformat": 4,
  "nbformat_minor": 0
}