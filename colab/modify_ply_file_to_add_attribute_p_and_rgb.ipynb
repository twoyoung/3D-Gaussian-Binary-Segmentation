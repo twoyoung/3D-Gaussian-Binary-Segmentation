{
  "nbformat": 4,
  "nbformat_minor": 0,
  "metadata": {
    "colab": {
      "provenance": []
    },
    "kernelspec": {
      "name": "python3",
      "display_name": "Python 3"
    },
    "language_info": {
      "name": "python"
    }
  },
  "cells": [
    {
      "cell_type": "code",
      "source": [
        "# prompt: connect to google drive\n",
        "\n",
        "from google.colab import drive\n",
        "drive.mount('/content/drive')\n"
      ],
      "metadata": {
        "colab": {
          "base_uri": "https://localhost:8080/"
        },
        "id": "-R66SArTdgv5",
        "outputId": "84daed8d-3afb-4eb9-98a7-3f44ac78fd7c"
      },
      "execution_count": null,
      "outputs": [
        {
          "output_type": "stream",
          "name": "stdout",
          "text": [
            "Mounted at /content/drive\n"
          ]
        }
      ]
    },
    {
      "cell_type": "code",
      "source": [
        "!pip install plyfile"
      ],
      "metadata": {
        "colab": {
          "base_uri": "https://localhost:8080/"
        },
        "id": "1ZIiq_CqJtex",
        "outputId": "eb96757a-8ac1-483d-cde1-258ad91de4a1"
      },
      "execution_count": null,
      "outputs": [
        {
          "output_type": "stream",
          "name": "stdout",
          "text": [
            "Collecting plyfile\n",
            "  Downloading plyfile-1.0.3-py3-none-any.whl (23 kB)\n",
            "Requirement already satisfied: numpy>=1.17 in /usr/local/lib/python3.10/dist-packages (from plyfile) (1.23.5)\n",
            "Installing collected packages: plyfile\n",
            "Successfully installed plyfile-1.0.3\n"
          ]
        }
      ]
    },
    {
      "cell_type": "code",
      "source": [
        "import numpy as np\n",
        "from plyfile import PlyData, PlyElement\n",
        "\n",
        "def add_p_and_rgb_to_ply(input_file_path, output_file_path):\n",
        "    # Read the PLY file\n",
        "    ply_data = PlyData.read(input_file_path)\n",
        "\n",
        "    # Ensure that the file has a 'vertex' element\n",
        "    if 'vertex' not in ply_data:\n",
        "        raise ValueError(\"The PLY file does not have a vertex element.\")\n",
        "\n",
        "    num_vertices = len(ply_data['vertex'])\n",
        "\n",
        "    # Generate random values for the new property 'p' (float32) and RGB (float32, normalized)\n",
        "    random_values_p = np.random.rand(num_vertices).astype(np.float32)\n",
        "    random_rgb_values = np.random.rand(num_vertices, 3).astype(np.float32)\n",
        "\n",
        "    # Prepare new data array with additional 'p', 'red', 'green', 'blue' properties\n",
        "    new_dtype = ply_data['vertex'].data.dtype.descr + [('p', 'f4'), ('red', 'f4'), ('green', 'f4'), ('blue', 'f4')]\n",
        "    new_data = np.empty(num_vertices, dtype=new_dtype)\n",
        "\n",
        "    for name in ply_data['vertex'].data.dtype.names:\n",
        "        new_data[name] = ply_data['vertex'].data[name]\n",
        "\n",
        "    new_data['p'] = random_values_p\n",
        "    new_data['red'], new_data['green'], new_data['blue'] = random_rgb_values.T\n",
        "\n",
        "    # Create a new PlyElement with the updated data\n",
        "    new_element = PlyElement.describe(new_data, 'vertex')\n",
        "\n",
        "    # Replace the existing 'vertex' element\n",
        "    elements_list = list(ply_data.elements)\n",
        "    elements_list[elements_list.index(ply_data['vertex'])] = new_element\n",
        "\n",
        "    # Save the modified elements as a new PlyData\n",
        "    modified_ply_data = PlyData(elements=elements_list, comments=ply_data.comments, text=ply_data.text)\n",
        "    modified_ply_data.write(output_file_path)\n",
        "\n",
        "# Example usage\n",
        "input_path = '/content/drive/MyDrive/appleTree_gaussian_output/422147dc-c/point_cloud/iteration_30000/point_cloud.ply'\n",
        "output_path = '/content/drive/MyDrive/appleTree_gaussian_output/422147dc-c/point_cloud/iteration_30000/point_cloud_with_p_rgb.ply'\n",
        "add_p_and_rgb_to_ply(input_path, output_path)\n"
      ],
      "metadata": {
        "id": "VovMn-xFHdet"
      },
      "execution_count": null,
      "outputs": []
    }
  ]
}